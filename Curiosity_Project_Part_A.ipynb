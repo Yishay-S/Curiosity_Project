{
 "cells": [
  {
   "cell_type": "markdown",
   "metadata": {},
   "source": [
    "<font style='font-family: \"Times New Roman\", Times, serif;,color:#000099;font-weight:900;font-size:24px;text-decoration:underline;'>Curiosity project - Part A</font>"
   ]
  },
  {
   "cell_type": "markdown",
   "metadata": {},
   "source": [
    "Amir Wolfenzon - 300339785, Or Sharir - 201314796, Adam Bartash - 206321440, Yishay Shapira - 203016217"
   ]
  },
  {
   "cell_type": "markdown",
   "metadata": {},
   "source": [
    "1. Imports\n",
    "2. Read the data\n",
    "3. Functions\n",
    "4. Pre processing\n",
    "5. Pre evaluation\n",
    "6. Evaluation\n",
    "7. Data visualization"
   ]
  },
  {
   "cell_type": "markdown",
   "metadata": {},
   "source": [
    "<font style='font-weight:750;font-size:16px;text-decoration:underline;'>Imports</font>"
   ]
  },
  {
   "cell_type": "code",
   "execution_count": 1,
   "metadata": {},
   "outputs": [],
   "source": [
    "import pandas as pd\n",
    "import numpy as np\n",
    "import matplotlib.pyplot as plt\n",
    "plt.style.use('ggplot')\n",
    "import scipy.stats\n",
    "import seaborn as sns\n",
    "import math\n",
    "from scipy.spatial import distance"
   ]
  },
  {
   "cell_type": "markdown",
   "metadata": {},
   "source": [
    "<font style='font-weight:750;font-size:16px;text-decoration:underline;'>Read the data</font>"
   ]
  },
  {
   "cell_type": "code",
   "execution_count": 2,
   "metadata": {},
   "outputs": [],
   "source": [
    "path = r\"understat_per_game.csv\"\n",
    "data = pd.read_csv(path)\n",
    "data = data.sample(frac=1).reset_index(drop=True)"
   ]
  },
  {
   "cell_type": "markdown",
   "metadata": {},
   "source": [
    "<font style='font-weight:750;font-size:16px;text-decoration:underline;'>Functions:</font>"
   ]
  },
  {
   "cell_type": "code",
   "execution_count": 3,
   "metadata": {},
   "outputs": [],
   "source": [
    "# function to encode categorical column to numerical values\n",
    "from sklearn import preprocessing\n",
    "def cat_to_num(column_):\n",
    "    le = preprocessing.LabelEncoder()\n",
    "    le.fit(column_)\n",
    "    return le.transform(column_)"
   ]
  },
  {
   "cell_type": "code",
   "execution_count": 4,
   "metadata": {},
   "outputs": [],
   "source": [
    "# function to convert continuous column to bins \n",
    "def column_to_bins(column_, num_of_bins = 10.0):\n",
    "    num_of_bins = float(num_of_bins-1)\n",
    "    start = column_.min()\n",
    "    stop =  column_.max()\n",
    "    diff = (stop-start)\n",
    "    res = (num_of_bins-num_of_bins*(stop-column_)/(diff)).astype('int')\n",
    "    return res"
   ]
  },
  {
   "cell_type": "code",
   "execution_count": 5,
   "metadata": {},
   "outputs": [],
   "source": [
    "# get likelihood\n",
    "def get_likelihood(t_, y_):\n",
    "    return scipy.stats.norm(t_, 0.5).pdf(y_)\n",
    "    # we can change the function and use the likelihood option"
   ]
  },
  {
   "cell_type": "code",
   "execution_count": 6,
   "metadata": {},
   "outputs": [],
   "source": [
    "# get gamma - gamma is the discount factor when we update the environment around the data point\n",
    "def get_gamma(n2_, n3_, p2_, p3_):\n",
    "    data_point = [n2_, n3_]\n",
    "    feature = [p2_, p3_]\n",
    "    # euclidean distance of two points\n",
    "    dist = distance.euclidean(data_point, feature)\n",
    "    # gamma = 2^-dist\n",
    "    gamma = 2**(-dist)\n",
    "    return gamma"
   ]
  },
  {
   "cell_type": "code",
   "execution_count": 7,
   "metadata": {},
   "outputs": [],
   "source": [
    "# update theta probabilities of the data point and of the environment around the data point using gamma\n",
    "# when it's the data poibt itself, gamma = 1\n",
    "def update_priors(theta_ ,n1_, n2_, n3_, y_, gamma_):\n",
    "    sum_p = 0\n",
    "    for t in range(3):\n",
    "                       \n",
    "        #p = theta[x]\n",
    "        p = get_likelihood(t, y_) * gamma_\n",
    "        #p = likelihood[n1, n2, n3, t]\n",
    "        \n",
    "        # theta[t|x] ~ theta[t] * theta[x]\n",
    "        theta_[n1_, n2_, n3_, t] *= p\n",
    "     \n",
    "        # this is for the normalization\n",
    "        sum_p += theta_[n1_, n2_, n3_, t]\n",
    "        \n",
    "    # normalization\n",
    "    for t in range(3):\n",
    "        theta_[n1_, n2_, n3_, t] /= sum_p       "
   ]
  },
  {
   "cell_type": "markdown",
   "metadata": {},
   "source": [
    "<font style='font-weight:750;font-size:16px;text-decoration:underline;'>Pre processing</font>"
   ]
  },
  {
   "cell_type": "code",
   "execution_count": 8,
   "metadata": {},
   "outputs": [],
   "source": [
    "# createing the bins columns\n",
    "data['xG_bins'] = column_to_bins(data['xG'])\n",
    "data['xGA_bins'] = column_to_bins(data['xGA'])\n",
    "data['league num'] = cat_to_num(data['league'])"
   ]
  },
  {
   "cell_type": "code",
   "execution_count": 9,
   "metadata": {},
   "outputs": [],
   "source": [
    "# create single target column: \n",
    "# lose=0, draw=1, win=2 \n",
    "data['Target'] =np.where(data['loses']==1,0,\n",
    "                np.where(data['draws']==1,1,\n",
    "                np.where(data['wins']==1,2,3\n",
    "                ))) "
   ]
  },
  {
   "cell_type": "markdown",
   "metadata": {},
   "source": [
    "<font style='font-weight:750;font-size:16px;text-decoration:underline;'>Pre evaluation</font>"
   ]
  },
  {
   "cell_type": "code",
   "execution_count": 10,
   "metadata": {},
   "outputs": [],
   "source": [
    "# split the data to train and test\n",
    "from sklearn.model_selection import train_test_split\n",
    "train_data, test_data = train_test_split(data, test_size=0.20, random_state=55)\n",
    "#train_data =train_data.head(5000)"
   ]
  },
  {
   "cell_type": "code",
   "execution_count": 11,
   "metadata": {},
   "outputs": [],
   "source": [
    "# these are the indexes of matrix theta\n",
    "p1_index = int(train_data['league num'].max())+2\n",
    "p2_index = int(train_data['xG_bins'].max())+2\n",
    "p3_index = int(train_data['xGA_bins'].max())+2"
   ]
  },
  {
   "cell_type": "code",
   "execution_count": 12,
   "metadata": {},
   "outputs": [],
   "source": [
    "# 4th matrix with priors - the % of the relative part of the result in the train data\n",
    "theta=np.zeros([p1_index, p2_index,p3_index, 3])\n",
    "theta[:,:,:,0]=len(train_data[(train_data['Target']==0)])/len(data)\n",
    "theta[:,:,:,1]=len(train_data[(train_data['Target']==1)])/len(data)\n",
    "theta[:,:,:,2]=len(train_data[(train_data['Target']==2)])/len(data)"
   ]
  },
  {
   "cell_type": "code",
   "execution_count": 13,
   "metadata": {},
   "outputs": [
    {
     "data": {
      "text/plain": [
       "0    0.0\n",
       "1    0.0\n",
       "2    0.0\n",
       "Name: IG, dtype: float64"
      ]
     },
     "execution_count": 13,
     "metadata": {},
     "output_type": "execute_result"
    }
   ],
   "source": [
    "# Global variables for record the IG information\n",
    "d_kl_arr = [] # list of IG per raw data iteration\n",
    "d_kl = 0.0\n",
    "d_kl_cumulative_arr = [] # list of cumulative IG per raw data iteration\n",
    "d_kl_cumulative = 0.0\n",
    "\n",
    "#record the data per result: lose, draw and win \n",
    "ig_df = pd.DataFrame(\n",
    "    columns=[\n",
    "        'Target',\n",
    "        'IG'])\n",
    "\n",
    "ig_df.loc[0] = [0,0.0]\n",
    "ig_df.loc[1] = [1,0.0]\n",
    "ig_df.loc[2] = [2,0.0]\n",
    "\n",
    "ig_df.IG.astype('float64')"
   ]
  },
  {
   "cell_type": "markdown",
   "metadata": {},
   "source": [
    "<font style='font-weight:750;font-size:16px;text-decoration:underline;'>Evaluation</font>"
   ]
  },
  {
   "cell_type": "code",
   "execution_count": 14,
   "metadata": {},
   "outputs": [],
   "source": [
    "for i, record in train_data.iterrows():\n",
    "    row = record\n",
    "    n1 = int(row['league num']) \n",
    "    n2 = int(row['xG_bins'])\n",
    "    n3 = int(row['xGA_bins']) \n",
    "    y = int(row['Target'])\n",
    "    \n",
    "    d_kl = 0.0\n",
    "    # updating the data point\n",
    "    p1 = n1 \n",
    "    p2 = n2\n",
    "    p3 = n3\n",
    "    gamma = get_gamma(n1, n2, p1, p2)\n",
    "    p_before = theta[p1, p2, p3, :].flatten()\n",
    "    update_priors(theta ,p1, p2, p3, y, gamma)\n",
    "    p_after = theta[p1, p2, p3, :].flatten()    \n",
    "    for t in range(3):\n",
    "        if p_before[t] > 0.0 and p_after[t] > 0.0:\n",
    "            dkl_per_res = p_after[t]* np.log2(p_after[t]/p_before[t])\n",
    "            d_kl += dkl_per_res\n",
    "            ig_df.loc[ig_df['Target'] == t, 'IG'] += dkl_per_res\n",
    "       \n",
    "    # updating the environment around the data point xG +/-1 and xGA +/-1\n",
    "    # no need to update the data point around the league since there is no similarity between the leagues\n",
    "    \n",
    "    # update xG-1\n",
    "    if n2 >0:\n",
    "        p1 = n1 \n",
    "        p2 = n2-1\n",
    "        p3 = n3\n",
    "        gamma = get_gamma(n1, n2, p1, p2)\n",
    "        p_before = theta[p1, p2, p3, :].flatten()\n",
    "        update_priors(theta ,p1, p2, p3, y, gamma)\n",
    "        p_after = theta[p1, p2, p3, :].flatten()    \n",
    "        for t in range(3):\n",
    "            if p_before[t] > 0.0 and p_after[t] > 0.0:\n",
    "                dkl_per_res = p_after[t]* np.log2(p_after[t]/p_before[t])\n",
    "                d_kl += dkl_per_res\n",
    "                ig_df.loc[ig_df['Target'] == t, 'IG'] += dkl_per_res\n",
    "\n",
    "    # update xG+1            \n",
    "    if n2 <p2_index:\n",
    "        p1 = n1 \n",
    "        p2 = n2+1\n",
    "        p3 = n3\n",
    "        gamma = get_gamma(n1, n2, p1, p2)\n",
    "        p_before = theta[p1, p2, p3, :].flatten()\n",
    "        update_priors(theta ,p1, p2, p3, y, gamma)\n",
    "        p_after = theta[p1, p2, p3, :].flatten()    \n",
    "        for t in range(3):\n",
    "            if p_before[t] > 0.0 and p_after[t] > 0.0:\n",
    "                dkl_per_res = p_after[t]* np.log2(p_after[t]/p_before[t])\n",
    "                d_kl += dkl_per_res\n",
    "                ig_df.loc[ig_df['Target'] == t, 'IG'] += dkl_per_res\n",
    "    \n",
    "    # update xGA-1\n",
    "    if n3 >0:\n",
    "        p1 = n1 \n",
    "        p2 = n2\n",
    "        p3 = n3-1\n",
    "        gamma = get_gamma(n1, n2, p1, p2)\n",
    "        p_before = theta[p1, p2, p3, :].flatten()\n",
    "        update_priors(theta ,p1, p2, p3, y, gamma)\n",
    "        p_after = theta[p1, p2, p3, :].flatten()    \n",
    "        for t in range(3):\n",
    "            if p_before[t] > 0.0 and p_after[t] > 0.0:\n",
    "                dkl_per_res = p_after[t]* np.log2(p_after[t]/p_before[t])\n",
    "                d_kl += dkl_per_res\n",
    "                ig_df.loc[ig_df['Target'] == t, 'IG'] += dkl_per_res\n",
    "\n",
    "    # update xGA+1\n",
    "    if n3 <p3_index:\n",
    "        p1 = n1 \n",
    "        p2 = n2\n",
    "        p3 = n3+1\n",
    "        gamma = get_gamma(n1, n2, p1, p2)\n",
    "        p_before = theta[p1, p2, p3, :].flatten()\n",
    "        update_priors(theta ,p1, p2, p3, y, gamma)\n",
    "        p_after = theta[p1, p2, p3, :].flatten()    \n",
    "        for t in range(3):\n",
    "            if p_before[t] > 0.0 and p_after[t] > 0.0:\n",
    "                dkl_per_res = p_after[t]* np.log2(p_after[t]/p_before[t])\n",
    "                d_kl += dkl_per_res\n",
    "                ig_df.loc[ig_df['Target'] == t, 'IG'] += dkl_per_res\n",
    "                \n",
    "    d_kl_arr.append(d_kl)\n",
    "    d_kl_cumulative +=d_kl\n",
    "    d_kl_cumulative_arr.append(d_kl_cumulative)"
   ]
  },
  {
   "cell_type": "markdown",
   "metadata": {},
   "source": [
    "<font style='font-weight:750;font-size:16px;text-decoration:underline;'>Data visualization</font>"
   ]
  },
  {
   "cell_type": "code",
   "execution_count": 15,
   "metadata": {},
   "outputs": [
    {
     "data": {
      "text/plain": [
       "Text(0, 0.5, 'IG')"
      ]
     },
     "execution_count": 15,
     "metadata": {},
     "output_type": "execute_result"
    },
    {
     "data": {
      "image/png": "[encoded data removed]",
      "text/plain": [
       "<Figure size 864x288 with 2 Axes>"
      ]
     },
     "metadata": {},
     "output_type": "display_data"
    }
   ],
   "source": [
    "fig, axs = plt.subplots(1, 2, figsize=(12, 4))\n",
    "fig.suptitle('Information gain over the learning', y=1.1 , color='C0', size='15')\n",
    "axs[0].plot(d_kl_arr)\n",
    "axs[0].set_title(\"IG\")\n",
    "axs[0].set_xlabel('# of records')\n",
    "axs[0].set_ylabel('IG')\n",
    "axs[1].plot(d_kl_cumulative_arr)\n",
    "axs[1].set_title(\"Cumulative IG\")\n",
    "axs[1].set_xlabel('# of records')\n",
    "axs[1].set_ylabel('IG')"
   ]
  },
  {
   "cell_type": "code",
   "execution_count": 16,
   "metadata": {},
   "outputs": [
    {
     "data": {
      "text/plain": [
       "<matplotlib.axes._subplots.AxesSubplot at 0x2816e9a9bc8>"
      ]
     },
     "execution_count": 16,
     "metadata": {},
     "output_type": "execute_result"
    },
    {
     "data": {
      "image/png": "[encoded data removed]",
      "text/plain": [
       "<Figure size 432x288 with 1 Axes>"
      ]
     },
     "metadata": {},
     "output_type": "display_data"
    }
   ],
   "source": [
    "ig_df_sum = ig_df.groupby(['Target']).sum()\n",
    "#ig_df_sum['Target'] = ['Lose','Draw','Win']\n",
    "ig_df_sum.plot(kind=\"bar\")"
   ]
  },
  {
   "cell_type": "code",
   "execution_count": null,
   "metadata": {},
   "outputs": [],
   "source": []
  },
  {
   "cell_type": "code",
   "execution_count": null,
   "metadata": {},
   "outputs": [],
   "source": []
  }
 ],
 "metadata": {
  "kernelspec": {
   "display_name": "Python 3",
   "language": "python",
   "name": "python3"
  },
  "language_info": {
   "codemirror_mode": {
    "name": "ipython",
    "version": 3
   },
   "file_extension": ".py",
   "mimetype": "text/x-python",
   "name": "python",
   "nbconvert_exporter": "python",
   "pygments_lexer": "ipython3",
   "version": "3.7.6"
  }
 },
 "nbformat": 4,
 "nbformat_minor": 4
}
